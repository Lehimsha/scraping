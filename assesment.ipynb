{
 "cells": [
  {
   "cell_type": "code",
   "execution_count": 1,
   "id": "e03de965",
   "metadata": {},
   "outputs": [],
   "source": [
    "import requests\n",
    "from bs4 import BeautifulSoup"
   ]
  },
  {
   "cell_type": "code",
   "execution_count": 2,
   "id": "928a4904",
   "metadata": {},
   "outputs": [],
   "source": [
    "url = \"https://qcpi.questcdn.com/cdn/posting/?group=1950787&provider=1950787\""
   ]
  },
  {
   "cell_type": "code",
   "execution_count": 3,
   "id": "4f3599a3",
   "metadata": {},
   "outputs": [],
   "source": [
    "response = requests.get(url)"
   ]
  },
  {
   "cell_type": "code",
   "execution_count": 4,
   "id": "2ebdb99b",
   "metadata": {},
   "outputs": [],
   "source": [
    "soup = BeautifulSoup(response.content, \"html.parser\")"
   ]
  },
  {
   "cell_type": "code",
   "execution_count": 5,
   "id": "ee4ae66c",
   "metadata": {},
   "outputs": [],
   "source": [
    "# Find the \"Search Postings\" section\n",
    "search_postings = soup.find(\"div\", class_=\"search-postings\")"
   ]
  },
  {
   "cell_type": "code",
   "execution_count": 6,
   "id": "2f07b4b6",
   "metadata": {},
   "outputs": [
    {
     "name": "stdout",
     "output_type": "stream",
     "text": [
      "Search Postings section not found.\n"
     ]
    }
   ],
   "source": [
    "if search_postings:\n",
    "    # Find all postings within the \"Search Postings\" section\n",
    "    postings = search_postings.find_all(\"div\", class_=\"posting\")\n",
    "     # Iterate over the postings and extract the desired fields\n",
    "    for posting in postings[:5]:  # Limit to the first five postings\n",
    "        est_value = posting.find(\"span\", class_=\"est-value\").text.strip()\n",
    "        notes = posting.find(\"span\", class_=\"notes\").text.strip()\n",
    "        description = posting.find(\"p\", class_=\"description\").text.strip()\n",
    "        closing_date = posting.find(\"span\", class_=\"closing-date\").text.strip()\n",
    "        # Print the extracted fields\n",
    "        print(\"Est. Value:\", est_value)\n",
    "        print(\"Notes:\", notes)\n",
    "        print(\"Description:\", description)\n",
    "        print(\"Closing Date:\", closing_date)\n",
    "        print(\"----------------------------------\")\n",
    "else:\n",
    "    print(\"Search Postings section not found.\")        \n"
   ]
  },
  {
   "cell_type": "code",
   "execution_count": null,
   "id": "baa02b7b",
   "metadata": {},
   "outputs": [],
   "source": []
  }
 ],
 "metadata": {
  "kernelspec": {
   "display_name": "Python 3 (ipykernel)",
   "language": "python",
   "name": "python3"
  },
  "language_info": {
   "codemirror_mode": {
    "name": "ipython",
    "version": 3
   },
   "file_extension": ".py",
   "mimetype": "text/x-python",
   "name": "python",
   "nbconvert_exporter": "python",
   "pygments_lexer": "ipython3",
   "version": "3.11.2"
  }
 },
 "nbformat": 4,
 "nbformat_minor": 5
}
